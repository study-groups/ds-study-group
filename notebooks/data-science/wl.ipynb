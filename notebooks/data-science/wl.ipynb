{
 "cells": [
  {
   "cell_type": "code",
   "execution_count": 1,
   "id": "a52d5af6-5b5e-42ca-88ba-55ec251b81d8",
   "metadata": {},
   "outputs": [
    {
     "name": "stdout",
     "output_type": "stream",
     "text": [
      "Final hashes of the vertices:\n",
      "Vertex 1: f75cf1d9da41d4814eb89b549368ef511bb42ff9624237ce4ebf71589623d87e\n",
      "Vertex 2: ca5633368f7e2ae486043e24a103720e5b792b1ad1a25c2db702a34c96fbea2b\n",
      "Vertex 3: d9b0f9533c91705c028a6ec9de7dfa8c3af6ef95efadd51d149e945a71a5a538\n"
     ]
    }
   ],
   "source": [
    "import networkx as nx\n",
    "import hashlib\n",
    "\n",
    "def hash_function(data):\n",
    "    \"\"\"Generate a hash for the given data.\"\"\"\n",
    "    return hashlib.sha256(str(data).encode()).hexdigest()\n",
    "\n",
    "def initialize_vertex_hashes(graph):\n",
    "    \"\"\"Initialize hash values based on vertex data (or label).\"\"\"\n",
    "    return {v: hash_function(graph.nodes[v]['data']) for v in graph.nodes}\n",
    "\n",
    "def update_vertex_hashes(graph, vertex_hashes):\n",
    "    \"\"\"Update hash values based on the hashes of the neighboring vertices.\"\"\"\n",
    "    new_hashes = {}\n",
    "    for v in graph.nodes:\n",
    "        # Combine the hash of the vertex with the hashes of its neighbors\n",
    "        neighbor_hashes = sorted([vertex_hashes[w] for w in nx.neighbors(graph, v)])\n",
    "        combined_data = str(vertex_hashes[v]) + str(neighbor_hashes)\n",
    "        new_hashes[v] = hash_function(combined_data)\n",
    "    return new_hashes\n",
    "\n",
    "def graph_hashing_algorithm(graph, max_iterations=100):\n",
    "    \"\"\"Main function to execute the graph hashing algorithm with a limit on iterations.\"\"\"\n",
    "    # Step 1: Initialize hash values for each vertex\n",
    "    vertex_hashes = initialize_vertex_hashes(graph)\n",
    "    iteration = 0\n",
    "    \n",
    "    while True:\n",
    "        # Step 2: Update hashes\n",
    "        new_vertex_hashes = update_vertex_hashes(graph, vertex_hashes)\n",
    "        \n",
    "        # Step 3: Check for convergence or max iterations\n",
    "        if new_vertex_hashes == vertex_hashes or iteration >= max_iterations:\n",
    "            break\n",
    "        \n",
    "        vertex_hashes = new_vertex_hashes\n",
    "        iteration += 1\n",
    "    \n",
    "    return vertex_hashes\n",
    "\n",
    "# Example graph creation\n",
    "G = nx.Graph()\n",
    "G.add_nodes_from([\n",
    "    (1, {'data': 'apple'}),\n",
    "    (2, {'data': 'banana'}),\n",
    "    (3, {'data': 'cherry'})\n",
    "])\n",
    "G.add_edges_from([(1, 2), (2, 3)])\n",
    "\n",
    "# Execute the graph hashing algorithm\n",
    "final_hashes = graph_hashing_algorithm(G)\n",
    "print(\"Final hashes of the vertices:\")\n",
    "for vertex, hash_value in final_hashes.items():\n",
    "    print(f\"Vertex {vertex}: {hash_value}\")\n"
   ]
  },
  {
   "cell_type": "code",
   "execution_count": 4,
   "id": "77aca271-82e7-4232-aa46-1f3a6247cb30",
   "metadata": {},
   "outputs": [
    {
     "ename": "TypeError",
     "evalue": "draw_networkx_nodes() got an unexpected keyword argument 'norm'",
     "output_type": "error",
     "traceback": [
      "\u001b[0;31m---------------------------------------------------------------------------\u001b[0m",
      "\u001b[0;31mTypeError\u001b[0m                                 Traceback (most recent call last)",
      "Cell \u001b[0;32mIn[4], line 66\u001b[0m\n\u001b[1;32m     64\u001b[0m \u001b[38;5;66;03m# Example graph\u001b[39;00m\n\u001b[1;32m     65\u001b[0m G \u001b[38;5;241m=\u001b[39m nx\u001b[38;5;241m.\u001b[39mcycle_graph(\u001b[38;5;241m6\u001b[39m)\n\u001b[0;32m---> 66\u001b[0m \u001b[43mgraph_hashing_visualization\u001b[49m\u001b[43m(\u001b[49m\u001b[43mG\u001b[49m\u001b[43m)\u001b[49m\n",
      "Cell \u001b[0;32mIn[4], line 57\u001b[0m, in \u001b[0;36mgraph_hashing_visualization\u001b[0;34m(graph, max_iterations)\u001b[0m\n\u001b[1;32m     55\u001b[0m \u001b[38;5;28;01mfor\u001b[39;00m iteration \u001b[38;5;129;01min\u001b[39;00m \u001b[38;5;28mrange\u001b[39m(max_iterations \u001b[38;5;241m+\u001b[39m \u001b[38;5;241m1\u001b[39m):\n\u001b[1;32m     56\u001b[0m     \u001b[38;5;28mprint\u001b[39m(\u001b[38;5;124mf\u001b[39m\u001b[38;5;124m\"\u001b[39m\u001b[38;5;124mIteration \u001b[39m\u001b[38;5;132;01m{\u001b[39;00miteration\u001b[38;5;132;01m}\u001b[39;00m\u001b[38;5;124m\"\u001b[39m)\n\u001b[0;32m---> 57\u001b[0m     \u001b[43mdraw_graph\u001b[49m\u001b[43m(\u001b[49m\u001b[43mgraph\u001b[49m\u001b[43m,\u001b[49m\u001b[43m \u001b[49m\u001b[43mvertex_hashes\u001b[49m\u001b[43m,\u001b[49m\u001b[43m \u001b[49m\u001b[43miteration\u001b[49m\u001b[43m)\u001b[49m\n\u001b[1;32m     58\u001b[0m     new_vertex_hashes \u001b[38;5;241m=\u001b[39m update_vertex_hashes(graph, vertex_hashes)\n\u001b[1;32m     59\u001b[0m     \u001b[38;5;28;01mif\u001b[39;00m new_vertex_hashes \u001b[38;5;241m==\u001b[39m vertex_hashes:\n",
      "Cell \u001b[0;32mIn[4], line 43\u001b[0m, in \u001b[0;36mdraw_graph\u001b[0;34m(graph, vertex_hashes, iteration)\u001b[0m\n\u001b[1;32m     40\u001b[0m cmap \u001b[38;5;241m=\u001b[39m plt\u001b[38;5;241m.\u001b[39mcm\u001b[38;5;241m.\u001b[39mviridis\n\u001b[1;32m     42\u001b[0m \u001b[38;5;66;03m# Draw the graph\u001b[39;00m\n\u001b[0;32m---> 43\u001b[0m \u001b[43mnx\u001b[49m\u001b[38;5;241;43m.\u001b[39;49m\u001b[43mdraw_networkx_nodes\u001b[49m\u001b[43m(\u001b[49m\u001b[43mgraph\u001b[49m\u001b[43m,\u001b[49m\u001b[43m \u001b[49m\u001b[43mpos\u001b[49m\u001b[43m,\u001b[49m\u001b[43m \u001b[49m\u001b[43mnode_color\u001b[49m\u001b[38;5;241;43m=\u001b[39;49m\u001b[43mnode_colors\u001b[49m\u001b[43m,\u001b[49m\u001b[43m \u001b[49m\u001b[43mnode_size\u001b[49m\u001b[38;5;241;43m=\u001b[39;49m\u001b[38;5;241;43m700\u001b[39;49m\u001b[43m,\u001b[49m\u001b[43m \u001b[49m\u001b[43mcmap\u001b[49m\u001b[38;5;241;43m=\u001b[39;49m\u001b[43mcmap\u001b[49m\u001b[43m,\u001b[49m\u001b[43m \u001b[49m\u001b[43mnorm\u001b[49m\u001b[38;5;241;43m=\u001b[39;49m\u001b[43mnorm\u001b[49m\u001b[43m)\u001b[49m\n\u001b[1;32m     44\u001b[0m nx\u001b[38;5;241m.\u001b[39mdraw_networkx_edges(graph, pos)\n\u001b[1;32m     45\u001b[0m nx\u001b[38;5;241m.\u001b[39mdraw_networkx_labels(graph, pos)\n",
      "\u001b[0;31mTypeError\u001b[0m: draw_networkx_nodes() got an unexpected keyword argument 'norm'"
     ]
    },
    {
     "data": {
      "text/plain": [
       "<Figure size 800x800 with 0 Axes>"
      ]
     },
     "metadata": {},
     "output_type": "display_data"
    }
   ],
   "source": [
    "%matplotlib inline\n",
    "import networkx as nx\n",
    "import hashlib\n",
    "import matplotlib.pyplot as plt\n",
    "from IPython.display import display, clear_output\n",
    "\n",
    "def hash_function(data):\n",
    "    \"\"\"Generate a hash for the given data using SHA-256 and return as integer for coloring.\"\"\"\n",
    "    return int(hashlib.sha256(str(data).encode()).hexdigest(), 16)  # Convert hash to integer\n",
    "\n",
    "def initialize_vertex_hashes(graph):\n",
    "    \"\"\"Initialize hash values for each vertex based on its label.\"\"\"\n",
    "    initial_hashes = {v: hash_function(v) for v in graph.nodes}\n",
    "    print(\"Initial vertex hashes:\", initial_hashes)\n",
    "    return initial_hashes\n",
    "\n",
    "def update_vertex_hashes(graph, vertex_hashes):\n",
    "    \"\"\"Update hash values based on the hashes of the neighboring vertices.\"\"\"\n",
    "    new_hashes = {}\n",
    "    for v in graph.nodes:\n",
    "        neighbor_hashes = sorted([vertex_hashes[w] for w in nx.neighbors(graph, v)])\n",
    "        combined_data = str(vertex_hashes[v]) + ''.join(neighbor_hashes)\n",
    "        new_hashes[v] = hash_function(combined_data)\n",
    "    print(\"Updated vertex hashes:\", new_hashes)\n",
    "    return new_hashes\n",
    "\n",
    "import matplotlib.colors as mcolors\n",
    "\n",
    "def draw_graph(graph, vertex_hashes, iteration):\n",
    "    \"\"\"Draw the graph with vertices colored by their hash values.\"\"\"\n",
    "    clear_output(wait=True)  # Clear the previous plot\n",
    "    plt.figure(figsize=(8, 8))\n",
    "    pos = nx.spring_layout(graph, seed=42)  # Consistent positioning\n",
    "\n",
    "    # Normalize the color scale based on hash values\n",
    "    norm = mcolors.Normalize(vmin=min(vertex_hashes.values()), vmax=max(vertex_hashes.values()), clip=True)\n",
    "    node_colors = [vertex_hashes[v] for v in graph.nodes()]\n",
    "\n",
    "    # Create a colormap\n",
    "    cmap = plt.cm.viridis\n",
    "\n",
    "    # Draw the graph\n",
    "    nx.draw_networkx_nodes(graph, pos, node_color=node_colors, node_size=700, cmap=cmap, norm=norm)\n",
    "    nx.draw_networkx_edges(graph, pos)\n",
    "    nx.draw_networkx_labels(graph, pos)\n",
    "    plt.title(f\"Iteration {iteration}\")\n",
    "    plt.colorbar(plt.cm.ScalarMappable(norm=norm, cmap=cmap), ax=plt.gca(), shrink=0.7)\n",
    "    plt.axis('off')\n",
    "    plt.show()\n",
    "\n",
    "\n",
    "def graph_hashing_visualization(graph, max_iterations=10):\n",
    "    \"\"\"Visualize the WL hashing process with debugging.\"\"\"\n",
    "    vertex_hashes = initialize_vertex_hashes(graph)\n",
    "    for iteration in range(max_iterations + 1):\n",
    "        print(f\"Iteration {iteration}\")\n",
    "        draw_graph(graph, vertex_hashes, iteration)\n",
    "        new_vertex_hashes = update_vertex_hashes(graph, vertex_hashes)\n",
    "        if new_vertex_hashes == vertex_hashes:\n",
    "            print(\"Hashes have stabilized; terminating early.\")\n",
    "            break\n",
    "        vertex_hashes = new_vertex_hashes\n",
    "\n",
    "# Example graph\n",
    "G = nx.cycle_graph(6)\n",
    "graph_hashing_visualization(G)\n"
   ]
  },
  {
   "cell_type": "code",
   "execution_count": null,
   "id": "4ed718e3-d5bc-4eec-8403-ac27ae48231d",
   "metadata": {},
   "outputs": [],
   "source": []
  }
 ],
 "metadata": {
  "kernelspec": {
   "display_name": "Python 3 (ipykernel)",
   "language": "python",
   "name": "python3"
  },
  "language_info": {
   "codemirror_mode": {
    "name": "ipython",
    "version": 3
   },
   "file_extension": ".py",
   "mimetype": "text/x-python",
   "name": "python",
   "nbconvert_exporter": "python",
   "pygments_lexer": "ipython3",
   "version": "3.8.10"
  }
 },
 "nbformat": 4,
 "nbformat_minor": 5
}
