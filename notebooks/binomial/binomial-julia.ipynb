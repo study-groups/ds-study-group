{
 "cells": [
  {
   "cell_type": "markdown",
   "id": "57159ad8-3a3a-442b-af06-d1321fa34998",
   "metadata": {
    "tags": []
   },
   "source": [
    "## Setup\n",
    "https://datatofish.com/add-julia-to-jupyter/"
   ]
  },
  {
   "cell_type": "code",
   "execution_count": null,
   "id": "29288120-460d-4959-b41f-395abb7dbe0a",
   "metadata": {},
   "outputs": [
    {
     "name": "stderr",
     "output_type": "stream",
     "text": [
      "\u001b[32m\u001b[1m   Resolving\u001b[22m\u001b[39m package versions...\n",
      "\u001b[32m\u001b[1m  No Changes\u001b[22m\u001b[39m to `~/.julia/environments/v1.7/Project.toml`\n",
      "\u001b[32m\u001b[1m  No Changes\u001b[22m\u001b[39m to `~/.julia/environments/v1.7/Manifest.toml`\n",
      "\u001b[32m\u001b[1mPrecompiling\u001b[22m\u001b[39m project...\n"
     ]
    }
   ],
   "source": [
    "using Pkg\n",
    "Pkg.add(\"Plots\")\n",
    "Pkg.add(\"QuadGK\")"
   ]
  },
  {
   "cell_type": "code",
   "execution_count": null,
   "id": "4103afed-2f94-4ff0-bdec-69d0f1bccadd",
   "metadata": {},
   "outputs": [
    {
     "name": "stderr",
     "output_type": "stream",
     "text": [
      "┌ Info: Precompiling Plots [91a5bcdd-55d7-5caf-9e0b-520d859cae80]\n",
      "└ @ Base loading.jl:1423\n"
     ]
    }
   ],
   "source": [
    "using Plots"
   ]
  },
  {
   "cell_type": "code",
   "execution_count": 3,
   "id": "01f73bf1-6316-4c01-bc33-ad9c087fb469",
   "metadata": {},
   "outputs": [
    {
     "data": {
      "text/plain": [
       "8-element Vector{Int64}:\n",
       "  8\n",
       " 28\n",
       " 56\n",
       " 70\n",
       " 56\n",
       " 28\n",
       "  8\n",
       "  1"
      ]
     },
     "execution_count": 3,
     "metadata": {},
     "output_type": "execute_result"
    }
   ],
   "source": [
    "numExp=1\n",
    "n=8\n",
    "T=2^n\n",
    "k=floor(Int,(n/2))\n",
    "b=map( k-> binomial(n,k),(1:8))"
   ]
  },
  {
   "cell_type": "code",
   "execution_count": null,
   "id": "c0dafc45-afd9-4e98-8811-7a5fe6f43368",
   "metadata": {},
   "outputs": [],
   "source": [
    "b"
   ]
  },
  {
   "cell_type": "code",
   "execution_count": null,
   "id": "cc5365ae-2a68-497a-8c77-82d50535b17c",
   "metadata": {},
   "outputs": [],
   "source": []
  },
  {
   "cell_type": "code",
   "execution_count": null,
   "id": "3da0a5cf-dfd5-4657-baf1-df07c7504efc",
   "metadata": {},
   "outputs": [],
   "source": []
  },
  {
   "cell_type": "code",
   "execution_count": null,
   "id": "e8c78af0-eb9f-44fc-8a1d-ca9419271847",
   "metadata": {},
   "outputs": [],
   "source": []
  },
  {
   "cell_type": "code",
   "execution_count": null,
   "id": "bf7072f3-b9c8-4ee7-b486-d99650f94558",
   "metadata": {},
   "outputs": [],
   "source": []
  },
  {
   "cell_type": "code",
   "execution_count": null,
   "id": "52af82ab-939a-470b-be05-0f970d5e1400",
   "metadata": {},
   "outputs": [],
   "source": []
  },
  {
   "cell_type": "code",
   "execution_count": null,
   "id": "d85967d4-d3ba-443b-a78e-da59a93e1eba",
   "metadata": {},
   "outputs": [],
   "source": []
  }
 ],
 "metadata": {
  "kernelspec": {
   "display_name": "Julia 1.7.3",
   "language": "julia",
   "name": "julia-1.7"
  },
  "language_info": {
   "file_extension": ".jl",
   "mimetype": "application/julia",
   "name": "julia",
   "version": "1.7.3"
  },
  "toc-autonumbering": true,
  "toc-showcode": false,
  "toc-showmarkdowntxt": true
 },
 "nbformat": 4,
 "nbformat_minor": 5
}
