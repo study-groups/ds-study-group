{
 "cells": [
  {
   "cell_type": "markdown",
   "id": "57159ad8-3a3a-442b-af06-d1321fa34998",
   "metadata": {
    "tags": []
   },
   "source": [
    "## Setup\n",
    "https://datatofish.com/add-julia-to-jupyter/"
   ]
  },
  {
   "cell_type": "code",
   "execution_count": 74,
   "id": "29288120-460d-4959-b41f-395abb7dbe0a",
   "metadata": {},
   "outputs": [],
   "source": [
    "using Plots\n",
    "using QuadGK"
   ]
  },
  {
   "cell_type": "code",
   "execution_count": 75,
   "id": "01f73bf1-6316-4c01-bc33-ad9c087fb469",
   "metadata": {},
   "outputs": [
    {
     "data": {
      "text/plain": [
       "8-element Array{Int64,1}:\n",
       "  8\n",
       " 28\n",
       " 56\n",
       " 70\n",
       " 56\n",
       " 28\n",
       "  8\n",
       "  1"
      ]
     },
     "execution_count": 75,
     "metadata": {},
     "output_type": "execute_result"
    }
   ],
   "source": [
    "numExp=1\n",
    "n=8\n",
    "T=2^n\n",
    "k=floor(Int,(n/2))\n",
    "b=map( k-> binomial(n,k),(1:8))"
   ]
  },
  {
   "cell_type": "code",
   "execution_count": 68,
   "id": "c0dafc45-afd9-4e98-8811-7a5fe6f43368",
   "metadata": {},
   "outputs": [
    {
     "data": {
      "text/plain": [
       "70"
      ]
     },
     "execution_count": 68,
     "metadata": {},
     "output_type": "execute_result"
    }
   ],
   "source": [
    "b"
   ]
  },
  {
   "cell_type": "code",
   "execution_count": null,
   "id": "cc5365ae-2a68-497a-8c77-82d50535b17c",
   "metadata": {},
   "outputs": [],
   "source": []
  },
  {
   "cell_type": "code",
   "execution_count": null,
   "id": "3da0a5cf-dfd5-4657-baf1-df07c7504efc",
   "metadata": {},
   "outputs": [],
   "source": []
  },
  {
   "cell_type": "code",
   "execution_count": null,
   "id": "e8c78af0-eb9f-44fc-8a1d-ca9419271847",
   "metadata": {},
   "outputs": [],
   "source": []
  },
  {
   "cell_type": "code",
   "execution_count": null,
   "id": "bf7072f3-b9c8-4ee7-b486-d99650f94558",
   "metadata": {},
   "outputs": [],
   "source": []
  },
  {
   "cell_type": "code",
   "execution_count": null,
   "id": "52af82ab-939a-470b-be05-0f970d5e1400",
   "metadata": {},
   "outputs": [],
   "source": []
  },
  {
   "cell_type": "code",
   "execution_count": null,
   "id": "d85967d4-d3ba-443b-a78e-da59a93e1eba",
   "metadata": {},
   "outputs": [],
   "source": []
  }
 ],
 "metadata": {
  "kernelspec": {
   "display_name": "Julia 1.4.1",
   "language": "julia",
   "name": "julia-1.4"
  },
  "language_info": {
   "file_extension": ".jl",
   "mimetype": "application/julia",
   "name": "julia",
   "version": "1.4.1"
  },
  "toc-autonumbering": true,
  "toc-showcode": false,
  "toc-showmarkdowntxt": true
 },
 "nbformat": 4,
 "nbformat_minor": 5
}
