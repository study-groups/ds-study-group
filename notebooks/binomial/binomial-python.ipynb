{
 "cells": [
  {
   "cell_type": "code",
   "execution_count": 1,
   "id": "7f2da88f-88b0-4f94-aac6-659f2540f3bb",
   "metadata": {},
   "outputs": [],
   "source": [
    "import math\n",
    "def intToNumOfOnes(n):\n",
    "    return strToNumOfOnes(str(bin(n))) \n",
    "            \n",
    "def strToNumOfOnes(str):\n",
    "    numOfOnes = 0\n",
    "    for i in str:\n",
    "        if i == \"1\":\n",
    "            numOfOnes+=1\n",
    "    return numOfOnes\n",
    "\n",
    "def getBytesFromDevUrandom(n):\n",
    "    with open(\"/dev/urandom\", 'rb') as f:\n",
    "        print(f.read(n))"
   ]
  },
  {
   "cell_type": "code",
   "execution_count": 2,
   "id": "b98ae329-b757-41df-89cd-4a73d85ca226",
   "metadata": {},
   "outputs": [
    {
     "data": {
      "text/plain": [
       "8"
      ]
     },
     "execution_count": 2,
     "metadata": {},
     "output_type": "execute_result"
    }
   ],
   "source": [
    "intToNumOfOnes(255)"
   ]
  },
  {
   "cell_type": "code",
   "execution_count": 65,
   "id": "89cac7b8-8558-4b93-84c8-31cd4df25cbf",
   "metadata": {},
   "outputs": [
    {
     "ename": "SyntaxError",
     "evalue": "invalid syntax (2561321617.py, line 16)",
     "output_type": "error",
     "traceback": [
      "\u001b[0;36m  Input \u001b[0;32mIn [65]\u001b[0;36m\u001b[0m\n\u001b[0;31m    return newLines\u001b[0m\n\u001b[0m    ^\u001b[0m\n\u001b[0;31mSyntaxError\u001b[0m\u001b[0;31m:\u001b[0m invalid syntax\n"
     ]
    }
   ],
   "source": [
    "def rotateText(text):\n",
    "    lines=[ l for l in text.splitlines()] # split on newlines\n",
    "    M=len(lines)                        # M lines for old\n",
    "    N= max([len(l) for l in lines])     # N chars wide old\n",
    "    charsByLine = [] # M list of lists of N chars\n",
    "    for line in lines:\n",
    "        charsByLine.append(list(line))   # list(\"abc\") = ['a', 'b', 'c']\n",
    "    \n",
    "    values = [\"ab\", \"bc\", \"cd\"]\n",
    "\n",
    "    newChars=[]                          # N x M = lines x width for new\n",
    "    for n in range(N):                   # N lines for new\n",
    "        newChars.append(list(range(M))   # M chars wide \n",
    "#        for m, value in enumerate(values):\n",
    "#            newChars[n].append(line[M-1-m]) # m = col\n",
    "    return newLines"
   ]
  },
  {
   "cell_type": "code",
   "execution_count": 48,
   "id": "ed874811-770a-4cd4-8a36-038b8aa309b8",
   "metadata": {},
   "outputs": [],
   "source": [
    "text=\"\"\"┌                                                              ┐ \n",
    "                    1 ┤ 1                                        \n",
    "                   63 ┤ 63                                       \n",
    "                 1953 ┤ 1953                                     \n",
    "                39711 ┤ 39711                                    \n",
    "               595665 ┤ 595665                                   \n",
    "              7028847 ┤ 7028847                                  \n",
    "             67945521 ┤ 67945521                                 \n",
    "            553270671 ┤ 553270671                                \n",
    "           3872894697 ┤ 3872894697                               \n",
    "          23667689815 ┤ 23667689815                              \n",
    "         127805525001 ┤ 127805525001                             \n",
    "         615790256823 ┤ 615790256823                             \n",
    "        2668424446233 ┤ 2668424446233                            \n",
    "       10468434365991 ┤ 10468434365991                           \n",
    "       37387265592825 ┤ 37387265592825                           \n",
    "      122131734269895 ┤ 122131734269895                          \n",
    "      366395202809685 ┤ 366395202809685                          \n",
    "     1012974972473835 ┤ 1012974972473835                         \n",
    "     2588713818544245 ┤ 2588713818544245                         \n",
    "     6131164307078475 ┤ 6131164307078475                         \n",
    "    13488561475572645 ┤ 13488561475572645                        \n",
    "    27619435402363035 ┤■ 27619435402363035                       \n",
    "    52728013040874885 ┤■ 52728013040874885                       \n",
    "    93993414551124795 ┤■■ 93993414551124795                      \n",
    "   156655690918541325 ┤■■■ 156655690918541325                    \n",
    "   244382877832924467 ┤■■■■■ 244382877832924467                  \n",
    "   357174975294274221 ┤■■■■■■■■ 357174975294274221               \n",
    "   489462003181042451 ┤■■■■■■■■■■■ 489462003181042451            \n",
    "   629308289804197437 ┤■■■■■■■■■■■■■■ 629308289804197437         \n",
    "   759510004936100355 ┤■■■■■■■■■■■■■■■■■ 759510004936100355      \n",
    "   860778005594247069 ┤■■■■■■■■■■■■■■■■■■■ 860778005594247069    \n",
    "   916312070471295267 ┤■■■■■■■■■■■■■■■■■■■■ 916312070471295267   \n",
    "   916312070471295267 ┤■■■■■■■■■■■■■■■■■■■■ 916312070471295267   \n",
    "   860778005594247069 ┤■■■■■■■■■■■■■■■■■■■ 860778005594247069    \n",
    "   759510004936100355 ┤■■■■■■■■■■■■■■■■■ 759510004936100355      \n",
    "   629308289804197437 ┤■■■■■■■■■■■■■■ 629308289804197437         \n",
    "   489462003181042451 ┤■■■■■■■■■■■ 489462003181042451            \n",
    "   357174975294274221 ┤■■■■■■■■ 357174975294274221               \n",
    "   244382877832924467 ┤■■■■■ 244382877832924467                  \n",
    "   156655690918541325 ┤■■■ 156655690918541325                    \n",
    "    93993414551124795 ┤■■ 93993414551124795                      \n",
    "    52728013040874885 ┤■ 52728013040874885                       \n",
    "    27619435402363035 ┤■ 27619435402363035                       \n",
    "    13488561475572645 ┤ 13488561475572645                        \n",
    "     6131164307078475 ┤ 6131164307078475                         \n",
    "     2588713818544245 ┤ 2588713818544245                         \n",
    "     1012974972473835 ┤ 1012974972473835                         \n",
    "      366395202809685 ┤ 366395202809685                          \n",
    "      122131734269895 ┤ 122131734269895                          \n",
    "       37387265592825 ┤ 37387265592825                           \n",
    "       10468434365991 ┤ 10468434365991                           \n",
    "        2668424446233 ┤ 2668424446233                            \n",
    "         615790256823 ┤ 615790256823                             \n",
    "         127805525001 ┤ 127805525001                             \n",
    "          23667689815 ┤ 23667689815                              \n",
    "           3872894697 ┤ 3872894697                               \n",
    "            553270671 ┤ 553270671                                \n",
    "             67945521 ┤ 67945521                                 \n",
    "              7028847 ┤ 7028847                                  \n",
    "               595665 ┤ 595665                                   \n",
    "                39711 ┤ 39711                                    \n",
    "                 1953 ┤ 1953                                     \n",
    "                   63 ┤ 63                                       \n",
    "                    1 ┤ 1                                        \n",
    "                      └                                          \n",
    "\"\"\""
   ]
  },
  {
   "cell_type": "code",
   "execution_count": 62,
   "id": "9026d86a-8b19-4da8-95f9-93024283500d",
   "metadata": {},
   "outputs": [
    {
     "name": "stdout",
     "output_type": "stream",
     "text": [
      "0\n",
      "1\n",
      "2\n",
      "3\n",
      "4\n",
      "5\n",
      "6\n",
      "7\n",
      "8\n",
      "9\n",
      "10\n",
      "11\n",
      "12\n",
      "13\n",
      "14\n",
      "15\n",
      "16\n",
      "17\n",
      "18\n",
      "19\n",
      "20\n",
      "21\n",
      "22\n",
      "23\n",
      "24\n",
      "25\n",
      "26\n",
      "27\n",
      "28\n",
      "29\n",
      "30\n",
      "31\n",
      "32\n",
      "33\n",
      "34\n",
      "35\n",
      "36\n",
      "37\n",
      "38\n",
      "39\n",
      "40\n",
      "41\n",
      "42\n",
      "43\n",
      "44\n",
      "45\n",
      "46\n",
      "47\n",
      "48\n",
      "49\n",
      "50\n",
      "51\n",
      "52\n",
      "53\n",
      "54\n",
      "55\n",
      "56\n",
      "57\n",
      "58\n",
      "59\n",
      "60\n",
      "61\n",
      "62\n",
      "63\n",
      "64\n"
     ]
    }
   ],
   "source": [
    "t2=rotateText(text)"
   ]
  },
  {
   "cell_type": "code",
   "execution_count": 19,
   "id": "d29df7e2-1052-465b-bbd4-d4004eb31e52",
   "metadata": {},
   "outputs": [
    {
     "name": "stdout",
     "output_type": "stream",
     "text": [
      "b'\\x08\\xe2\\x06U\\x8a\\xf5lWg\\xb2'\n"
     ]
    }
   ],
   "source": [
    "getBytesFromDevUrandom(10)"
   ]
  },
  {
   "cell_type": "code",
   "execution_count": 169,
   "id": "3701d761-cdd8-4260-bc1d-1a1b07df799a",
   "metadata": {},
   "outputs": [],
   "source": []
  },
  {
   "cell_type": "code",
   "execution_count": 170,
   "id": "f9032970-8d95-4641-b4ac-3a2f9610119a",
   "metadata": {},
   "outputs": [],
   "source": []
  },
  {
   "cell_type": "code",
   "execution_count": 171,
   "id": "79d76b99-cf49-4171-9fd7-59799ebe79a2",
   "metadata": {},
   "outputs": [],
   "source": [
    "#linesT=[c for l in lines for c in l ]"
   ]
  },
  {
   "cell_type": "code",
   "execution_count": 172,
   "id": "68f7f4fd-4a10-4008-a4a2-ef4086ebb9bb",
   "metadata": {},
   "outputs": [],
   "source": [
    "l=lines[math.floor(M/2)]"
   ]
  },
  {
   "cell_type": "code",
   "execution_count": 173,
   "id": "2263476d-9d52-4593-b17e-c04ed22cc4aa",
   "metadata": {},
   "outputs": [
    {
     "data": {
      "text/plain": [
       "'6'"
      ]
     },
     "execution_count": 173,
     "metadata": {},
     "output_type": "execute_result"
    }
   ],
   "source": [
    "l[N-5]"
   ]
  },
  {
   "cell_type": "code",
   "execution_count": 174,
   "id": "2e1e4572-fec1-471b-ac4a-8d51ef3e7a0c",
   "metadata": {
    "tags": []
   },
   "outputs": [],
   "source": [
    "linesT=list()\n",
    "linesT.append(\"123\")\n",
    "linesT.append(\"456\")"
   ]
  },
  {
   "cell_type": "code",
   "execution_count": 180,
   "id": "3ed20648-b035-4d68-b8a2-5b8483b2f45e",
   "metadata": {},
   "outputs": [
    {
     "name": "stdout",
     "output_type": "stream",
     "text": [
      "                                                                   \n",
      " ┐                                                                 \n",
      "                                                                   \n",
      "                                 77                                \n",
      "                                9669                               \n",
      "                                6226                               \n",
      "                               505505                              \n",
      "                               579975                              \n",
      "                               342243                              \n",
      "                              70211207                             \n",
      "                              30477403                             \n",
      "                              41944914                             \n",
      "                             1765005671                            \n",
      "                             5935775395                            \n",
      "                             4190000914                            \n",
      "                            124402204421                           \n",
      "                            240081180042                           \n",
      "                            208073370802                           \n",
      "                           74190766709147                          \n",
      "                           67881011018876                          \n",
      "                          5421256996521245                         \n",
      "                          2443898  8983442                         \n",
      "                         5329005 ■■ 5009235                        \n",
      "                       559192037■■■■730291955                      \n",
      "                      538742529 ■■■■ 925247835                     \n",
      "                   555408453762■■■■■■267354804555                  \n",
      "                 55347634288946■■■■■■64988243674355                \n",
      "               159882426711749 ■■■■■■ 947117624288951              \n",
      "              3928634873819778■■■■■■■■8779183784368293             \n",
      "            133989974752050814■■■■■■■■418050257479989331           \n",
      "           502252604505045927 ■■■■■■■■ 729540505406252205          \n",
      "          7108669282877404685■■■■■■■■■■5864047782829668017         \n",
      "         19856435427104531533■■■■■■■■■■33513540172453465891        \n",
      "        17692544530983131454 ■■■■■■■■■■ 45413138903544529671       \n",
      "       726485243672434640364■■■■■■■■■■■■463046434276342584627      \n",
      "      5450965024215716598962■■■■■■■■■■■■2698956175124205690545     \n",
      "     1685787094873997181295 ■■■■■■■■■■■■ 5921817993784907875861    \n",
      "    31684226878681328186731■■■■■■■■■■■■■■13768182318687862248613   \n",
      "    5752937675643261834729 ■■■■■■■■■■■■■■ 9274381623465767392575   \n",
      "   3999075832160726051325 ■■■■■■■■■■■■■■■■ 5231506270612385709993  \n",
      "  161357653216213131261  ■■■■■■■■■■■■■■■■■■  162131312612356753161 \n",
      "                       ■■■■■■■■■■■■■■■■■■■■■■                      \n",
      "  ┤┤┤┤┤┤┤┤┤┤┤┤┤┤┤┤┤┤┤┤┤┤┤┤┤┤┤┤┤┤┤┤┤┤┤┤┤┤┤┤┤┤┤┤┤┤┤┤┤┤┤┤┤┤┤┤┤┤┤┤┤┤┤┤└\n",
      "                                                                   \n",
      "  1331571175133155555555555711759779571175555555555513315711751331 \n",
      "   65164279102392983474389262535666653526298347438929320197246156  \n",
      "    976856680829886824608734244302203442437806428688928086658679   \n",
      "    195850495665299348234414427075570724414432843992566594058591   \n",
      "     3924798254696074776724274904994094724276774706964528974293    \n",
      "      50928652435284505381592011222211029518350548253425682905     \n",
      "       773275044542287520182414641146414281025782245440572377      \n",
      "        6576092363071070451398039779308931540701703632906756       \n",
      "         58687442729834405982189544598128950443892724478685        \n",
      "          337588715434153407539450054935704351434517885733         \n",
      "           2216683971663119770800770080779113661793866122          \n",
      "            16643139715404689020000002098640451793134661           \n",
      "              2072628189835242808228082425389818262702             \n",
      "               13261838129587601711710678592183816231              \n",
      "                 1305146796314357337534136976415031                \n",
      "                   126372364799906609997463273621                  \n",
      "                      125954582561165285459521                     \n",
      "                          1234678998764321                         \n",
      "                                                                   \n",
      "                                                                   \n",
      " ┌                                                                 \n"
     ]
    }
   ],
   "source": []
  },
  {
   "cell_type": "code",
   "execution_count": 194,
   "id": "c3bf13c0-b561-4cea-99a5-9b3b628de959",
   "metadata": {},
   "outputs": [],
   "source": [
    "%qtconsole"
   ]
  },
  {
   "cell_type": "code",
   "execution_count": 152,
   "id": "d4e05c31-8e76-4a0b-9ea5-93f22983a66e",
   "metadata": {},
   "outputs": [
    {
     "data": {
      "text/plain": [
       "65"
      ]
     },
     "execution_count": 152,
     "metadata": {},
     "output_type": "execute_result"
    }
   ],
   "source": [
    "len(lines[0])"
   ]
  },
  {
   "cell_type": "code",
   "execution_count": 190,
   "id": "3dbfa86d-f4ab-496c-8fb6-e8432765af38",
   "metadata": {},
   "outputs": [
    {
     "name": "stderr",
     "output_type": "stream",
     "text": [
      "/tmp/ipykernel_2375/3973944911.py:50: RuntimeWarning: divide by zero encountered in reciprocal\n",
      "  p_mu = normalize(mu, mu**(a - 1) * (1 - mu)**(b - 1))\n",
      "/tmp/ipykernel_2375/3973944911.py:10: RuntimeWarning: invalid value encountered in true_divide\n",
      "  return y / ig.trapz(y, x)\n",
      "/tmp/ipykernel_2375/3973944911.py:50: RuntimeWarning: divide by zero encountered in power\n",
      "  p_mu = normalize(mu, mu**(a - 1) * (1 - mu)**(b - 1))\n"
     ]
    },
    {
     "data": {
      "image/png": "[encoded data removed]",
      "text/plain": [
       "<Figure size 600x400 with 1 Axes>"
      ]
     },
     "metadata": {
      "needs_background": "light"
     },
     "output_type": "display_data"
    }
   ],
   "source": [
    "\"\"\"Visualization of Bayesian Learning for Bernoulli distribution.\"\"\"\n",
    "\n",
    "import numpy as np\n",
    "import matplotlib.pyplot as plt\n",
    "from matplotlib.animation import PillowWriter, FuncAnimation\n",
    "from scipy import integrate as ig\n",
    "\n",
    "\n",
    "def normalize(x, y):\n",
    "    return y / ig.trapz(y, x)\n",
    "\n",
    "\n",
    "def animate(i):\n",
    "    plt.cla()\n",
    "    plt.plot(mu, p_mu_history[i])\n",
    "    if i > 0:\n",
    "        plt.text(.25, 9., f\"Observation: {obs_history[:i+1]}\")\n",
    "    else:\n",
    "        plt.text(.25, 9., f\"Observation: []\")\n",
    "    plt.xlabel('mu')\n",
    "    plt.ylabel('p(mu)')\n",
    "    plt.xlim([0., 1.])\n",
    "    plt.ylim([0., 10.])\n",
    "\n",
    "\n",
    "# Paremeters\n",
    "answer_mu = .2\n",
    "n_iter = 15\n",
    "a = 1.\n",
    "b = 1.\n",
    "\n",
    "mu = np.linspace(0., 1., 1000)\n",
    "\n",
    "\n",
    "# Calculate the initial prior distribution\n",
    "p_mu_history = [normalize(mu, mu**(a - 1) * (1 - mu)**(b - 1))]\n",
    "sum_obs = 0\n",
    "obs_history = []\n",
    "\n",
    "\n",
    "# Simulate Bernoulli observations\n",
    "for i in range(n_iter):\n",
    "    rand = np.random.random()\n",
    "    obs = 1 if rand <= answer_mu else 0\n",
    "    sum_obs += obs\n",
    "    obs_history += [obs]\n",
    "\n",
    "    a += sum_obs\n",
    "    b += i - sum_obs\n",
    "    p_mu = normalize(mu, mu**(a - 1) * (1 - mu)**(b - 1))\n",
    "    p_mu_history += [p_mu]\n",
    "\n",
    "\n",
    "# Generate the animation\n",
    "fig = plt.figure()\n",
    "fig.set_dpi(100)\n",
    "anim = FuncAnimation(\n",
    "    fig, animate, frames=(n_iter), interval=200, repeat=False)\n",
    "anim.save(\"anim.gif\", writer=PillowWriter(fps=2))\n",
    "plt.show()"
   ]
  },
  {
   "cell_type": "code",
   "execution_count": 182,
   "id": "dca3f1cd-c982-4414-97b0-08b44d50f7f2",
   "metadata": {},
   "outputs": [
    {
     "ename": "ModuleNotFoundError",
     "evalue": "No module named 'matplotlib'",
     "output_type": "error",
     "traceback": [
      "\u001b[0;31m---------------------------------------------------------------------------\u001b[0m",
      "\u001b[0;31mModuleNotFoundError\u001b[0m                       Traceback (most recent call last)",
      "Input \u001b[0;32mIn [182]\u001b[0m, in \u001b[0;36m<cell line: 1>\u001b[0;34m()\u001b[0m\n\u001b[0;32m----> 1\u001b[0m \u001b[38;5;28;01mimport\u001b[39;00m \u001b[38;5;21;01mmatplotlib\u001b[39;00m\n",
      "\u001b[0;31mModuleNotFoundError\u001b[0m: No module named 'matplotlib'"
     ]
    }
   ],
   "source": [
    "import matplotlib"
   ]
  },
  {
   "cell_type": "code",
   "execution_count": 184,
   "id": "e2d8670b-a09e-4102-94ec-a50b3469352d",
   "metadata": {},
   "outputs": [],
   "source": [
    "import matplotlib.pyplot as plt"
   ]
  },
  {
   "cell_type": "code",
   "execution_count": 195,
   "id": "6d1dca94-fb49-4b5e-a159-1d10f76b7366",
   "metadata": {},
   "outputs": [],
   "source": [
    "%qtconsole"
   ]
  },
  {
   "cell_type": "code",
   "execution_count": null,
   "id": "8c565a1f-f711-4dba-9270-ecc95786fddb",
   "metadata": {},
   "outputs": [],
   "source": []
  }
 ],
 "metadata": {
  "kernelspec": {
   "display_name": "Python 3 (ipykernel)",
   "language": "python",
   "name": "python3"
  },
  "language_info": {
   "codemirror_mode": {
    "name": "ipython",
    "version": 3
   },
   "file_extension": ".py",
   "mimetype": "text/x-python",
   "name": "python",
   "nbconvert_exporter": "python",
   "pygments_lexer": "ipython3",
   "version": "3.8.10"
  }
 },
 "nbformat": 4,
 "nbformat_minor": 5
}
