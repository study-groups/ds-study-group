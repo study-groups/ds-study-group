{
 "cells": [
  {
   "cell_type": "markdown",
   "id": "c1fefb4d-c211-472e-a721-df2409e2476a",
   "metadata": {
    "tags": []
   },
   "source": [
    "# Statistical Testing in Python\n",
    "\n",
    "This python notebook recreates a subset of the original analysis found in [Airbnb Prices in New York City](https://github.com/rae-fahrenholtz/airbnb-nyc). The goal is to use ggplot (grammar of graphics) to explore data aggregation and plotting options. Julia and R versions of this analysis are also available for comparison.\n",
    "\n",
    "The data was collected in 2019 and originates from Kaggle, [new-york-city-airbnb-open-data](www.kaggle.com/dgomonov/new-york-city-airbnb-open-data). The dataset of 16 columns and 50k rows has been copied to the server so this notebook may access it.\n",
    "```\n",
    "A copy is found at `devops@nodeholder.com:/home/devops/data`.\n",
    "\n",
    "RangeIndex: 48895 entries, 0 to 48894\n",
    "Data columns (total 16 columns):\n",
    " #   Column                    Dtype  \n",
    "---  ------                    -----  \n",
    " 0   id                        int64  \n",
    " 1   name                      object \n",
    " 2   host_id                   int64  \n",
    " 3   host_name                 object \n",
    " 4   neighbourhood_group       object      Coarse Grain Categorical\n",
    " 5   neighbourhood             object      Fine Grain Nominal\n",
    " 6   latitude                  float64     Fine Grain Continuous\n",
    " 7   longitude                 float64     Fine Grain Continuous\n",
    " 8   room_type                 object      Course Grain Categorical\n",
    " 9   price                     int64       Fine Grain Continuous\n",
    " 10  minimum_nights            int64  \n",
    " 11  number_of_reviews         int64  \n",
    " 12  last_review               object\n",
    " 13  reviews_per_mont          float64\n",
    " 14  calculate..stings_count   int64  \n",
    " 15  availability_365          int64  \n",
    "```\n",
    "\n",
    "It consists of 16 Columns and 48895 rows. We are interested in the following columns\n",
    "\n",
    "```\n",
    " 4   neighbourhood_group       object      Coarse Grain Categorical\n",
    " 8   room_type                 object      Course Grain Categorical\n",
    " 9   price                     int64       Fine Grain Continuous\n",
    " ```\n",
    "# Configuration\n",
    "This notebook is being served by a linux process owned by the user devops. All data, including programs, are found under /home/devops including: `/home/devops/.pyenv`, `/home/devops/.juypter`, `/home/devops/.julia`\n",
    "\n",
    "- Login as devops@nodeholder.com. We are using the ~/src/ds-study-group/\n",
    "\n",
    "# Research Questions\n",
    "For Airbnb rentals in 2019 in New York City:\n",
    "\n",
    "1. Is the average rental price significantly different for different room types?\n",
    "2. Is the average rental price significantly different in different neighborhoods?\n",
    "3. Is the average rental price for different neighborhoods and room types combinations significantly different?"
   ]
  },
  {
   "cell_type": "code",
   "execution_count": 2,
   "id": "020c3b03-30f1-4170-a99e-54f42167f520",
   "metadata": {},
   "outputs": [],
   "source": [
    "import pandas as pd\n",
    "import numpy as np"
   ]
  },
  {
   "cell_type": "code",
   "execution_count": 3,
   "id": "fcdfcad1-287a-4528-810e-e26d7b5738c0",
   "metadata": {},
   "outputs": [
    {
     "name": "stdout",
     "output_type": "stream",
     "text": [
      "/home/devops/src/ds-study-group/notebooks/airbnb-nyc\n"
     ]
    }
   ],
   "source": [
    "!pwd"
   ]
  },
  {
   "cell_type": "code",
   "execution_count": 4,
   "id": "1f56b20f-025f-455e-b004-b56ec626d9e3",
   "metadata": {},
   "outputs": [
    {
     "name": "stdout",
     "output_type": "stream",
     "text": [
      "AB_NYC_2019.csv  airbnb-nyc-python.ipynb  your_report.html\n"
     ]
    }
   ],
   "source": [
    "# ln -s /home/devops/data/AB_NYC_2019.csv\n",
    "!ls"
   ]
  },
  {
   "cell_type": "code",
   "execution_count": 5,
   "id": "c42a219c-682f-40d0-b61f-f2f6a28cef1a",
   "metadata": {},
   "outputs": [],
   "source": [
    "df = pd.read_csv('./AB_NYC_2019.csv')"
   ]
  },
  {
   "cell_type": "code",
   "execution_count": 6,
   "id": "d957ca99-a424-4584-b506-5a1d6c850058",
   "metadata": {},
   "outputs": [
    {
     "name": "stdout",
     "output_type": "stream",
     "text": [
      "<class 'pandas.core.frame.DataFrame'>\n",
      "RangeIndex: 48895 entries, 0 to 48894\n",
      "Data columns (total 16 columns):\n",
      " #   Column                          Non-Null Count  Dtype  \n",
      "---  ------                          --------------  -----  \n",
      " 0   id                              48895 non-null  int64  \n",
      " 1   name                            48879 non-null  object \n",
      " 2   host_id                         48895 non-null  int64  \n",
      " 3   host_name                       48874 non-null  object \n",
      " 4   neighbourhood_group             48895 non-null  object \n",
      " 5   neighbourhood                   48895 non-null  object \n",
      " 6   latitude                        48895 non-null  float64\n",
      " 7   longitude                       48895 non-null  float64\n",
      " 8   room_type                       48895 non-null  object \n",
      " 9   price                           48895 non-null  int64  \n",
      " 10  minimum_nights                  48895 non-null  int64  \n",
      " 11  number_of_reviews               48895 non-null  int64  \n",
      " 12  last_review                     38843 non-null  object \n",
      " 13  reviews_per_month               38843 non-null  float64\n",
      " 14  calculated_host_listings_count  48895 non-null  int64  \n",
      " 15  availability_365                48895 non-null  int64  \n",
      "dtypes: float64(3), int64(7), object(6)\n",
      "memory usage: 6.0+ MB\n"
     ]
    }
   ],
   "source": [
    "df.info()"
   ]
  },
  {
   "cell_type": "code",
   "execution_count": 7,
   "id": "f6311c24-a41f-4c6d-9d7d-6465685b7c12",
   "metadata": {},
   "outputs": [],
   "source": [
    "#from pandas_profiling import ProfileReport\n",
    "#profile = ProfileReport(df, title=\"Pandas Profiling Report\")\n",
    "#profile.to_file(\"your_report.html\")"
   ]
  },
  {
   "cell_type": "code",
   "execution_count": 8,
   "id": "22cf5cf3-925b-487d-ba79-b45e3bc8cb55",
   "metadata": {},
   "outputs": [
    {
     "data": {
      "text/html": [
       "<div>\n",
       "<style scoped>\n",
       "    .dataframe tbody tr th:only-of-type {\n",
       "        vertical-align: middle;\n",
       "    }\n",
       "\n",
       "    .dataframe tbody tr th {\n",
       "        vertical-align: top;\n",
       "    }\n",
       "\n",
       "    .dataframe thead th {\n",
       "        text-align: right;\n",
       "    }\n",
       "</style>\n",
       "<table border=\"1\" class=\"dataframe\">\n",
       "  <thead>\n",
       "    <tr style=\"text-align: right;\">\n",
       "      <th></th>\n",
       "      <th>price</th>\n",
       "      <th>room_type</th>\n",
       "      <th>neighbourhood_group</th>\n",
       "    </tr>\n",
       "  </thead>\n",
       "  <tbody>\n",
       "    <tr>\n",
       "      <th>0</th>\n",
       "      <td>149</td>\n",
       "      <td>Private room</td>\n",
       "      <td>Brooklyn</td>\n",
       "    </tr>\n",
       "    <tr>\n",
       "      <th>1</th>\n",
       "      <td>225</td>\n",
       "      <td>Entire home/apt</td>\n",
       "      <td>Manhattan</td>\n",
       "    </tr>\n",
       "    <tr>\n",
       "      <th>2</th>\n",
       "      <td>150</td>\n",
       "      <td>Private room</td>\n",
       "      <td>Manhattan</td>\n",
       "    </tr>\n",
       "    <tr>\n",
       "      <th>3</th>\n",
       "      <td>89</td>\n",
       "      <td>Entire home/apt</td>\n",
       "      <td>Brooklyn</td>\n",
       "    </tr>\n",
       "    <tr>\n",
       "      <th>4</th>\n",
       "      <td>80</td>\n",
       "      <td>Entire home/apt</td>\n",
       "      <td>Manhattan</td>\n",
       "    </tr>\n",
       "    <tr>\n",
       "      <th>5</th>\n",
       "      <td>200</td>\n",
       "      <td>Entire home/apt</td>\n",
       "      <td>Manhattan</td>\n",
       "    </tr>\n",
       "    <tr>\n",
       "      <th>6</th>\n",
       "      <td>60</td>\n",
       "      <td>Private room</td>\n",
       "      <td>Brooklyn</td>\n",
       "    </tr>\n",
       "  </tbody>\n",
       "</table>\n",
       "</div>"
      ],
      "text/plain": [
       "   price        room_type neighbourhood_group\n",
       "0    149     Private room            Brooklyn\n",
       "1    225  Entire home/apt           Manhattan\n",
       "2    150     Private room           Manhattan\n",
       "3     89  Entire home/apt            Brooklyn\n",
       "4     80  Entire home/apt           Manhattan\n",
       "5    200  Entire home/apt           Manhattan\n",
       "6     60     Private room            Brooklyn"
      ]
     },
     "execution_count": 8,
     "metadata": {},
     "output_type": "execute_result"
    }
   ],
   "source": [
    "pd.concat([df['price'], df['room_type'], df['neighbourhood_group']], axis=1).head(7)"
   ]
  },
  {
   "cell_type": "markdown",
   "id": "4cd6e77d-e0b8-4ff6-b6a5-444b9a84d61b",
   "metadata": {},
   "source": [
    "To produce a plot with the ggplot class from plotnine, we must provide three things:\n",
    "\n",
    "1. A data frame containing our data.\n",
    "2. How the columns of the data frame can be translated into positions, colors, sizes, and shapes of graphical elements (\"aesthetics\").\n",
    "3. The actual graphical elements to display (\"geometric objects\").\n"
   ]
  },
  {
   "cell_type": "code",
   "execution_count": 9,
   "id": "4326cf26-fa11-47ab-98df-4701e89c005f",
   "metadata": {},
   "outputs": [
    {
     "data": {
      "image/png": "[encoded data removed]",
      "text/plain": [
       "<Figure size 432x288 with 1 Axes>"
      ]
     },
     "metadata": {},
     "output_type": "display_data"
    },
    {
     "data": {
      "text/plain": [
       "<ggplot: (8763234754705)>"
      ]
     },
     "execution_count": 9,
     "metadata": {},
     "output_type": "execute_result"
    }
   ],
   "source": [
    "from plotnine import *\n",
    "ggplot(df, aes(x='price', y='room_type')) + geom_point()"
   ]
  },
  {
   "cell_type": "code",
   "execution_count": 10,
   "id": "817fb2e1-2f90-4e0b-a91e-fa17acd1ee29",
   "metadata": {},
   "outputs": [
    {
     "name": "stderr",
     "output_type": "stream",
     "text": [
      "/home/devops/src/ds-study-group/ds-dev/lib/python3.8/site-packages/plotnine/layer.py:324: PlotnineWarning: stat_bin : Removed 239 rows containing non-finite values.\n",
      "/home/devops/src/ds-study-group/ds-dev/lib/python3.8/site-packages/plotnine/layer.py:401: PlotnineWarning: geom_histogram : Removed 6 rows containing missing values.\n"
     ]
    },
    {
     "data": {
      "image/png": "[encoded data removed]",
      "text/plain": [
       "<Figure size 640x480 with 1 Axes>"
      ]
     },
     "metadata": {},
     "output_type": "display_data"
    },
    {
     "data": {
      "text/plain": [
       "<ggplot: (8763232612840)>"
      ]
     },
     "execution_count": 10,
     "metadata": {},
     "output_type": "execute_result"
    }
   ],
   "source": [
    "ggplot(df, aes(x='price',color=\"room_type\")) +\\\n",
    "    geom_histogram(binwidth=50,\\\n",
    "        alpha=0.5,\\\n",
    "        fill=\"white\") +\\\n",
    "    xlim(0,1000)"
   ]
  },
  {
   "cell_type": "code",
   "execution_count": 11,
   "id": "48050331-3e13-4746-8612-d044a5d3b107",
   "metadata": {},
   "outputs": [
    {
     "name": "stderr",
     "output_type": "stream",
     "text": [
      "/home/devops/src/ds-study-group/ds-dev/lib/python3.8/site-packages/plotnine/layer.py:324: PlotnineWarning: stat_bin : Removed 239 rows containing non-finite values.\n",
      "/home/devops/src/ds-study-group/ds-dev/lib/python3.8/site-packages/plotnine/layer.py:401: PlotnineWarning: geom_histogram : Removed 6 rows containing missing values.\n"
     ]
    },
    {
     "data": {
      "image/png": "[encoded data removed]",
      "text/plain": [
       "<Figure size 640x480 with 1 Axes>"
      ]
     },
     "metadata": {},
     "output_type": "display_data"
    },
    {
     "data": {
      "text/plain": [
       "<ggplot: (8763232564372)>"
      ]
     },
     "execution_count": 11,
     "metadata": {},
     "output_type": "execute_result"
    }
   ],
   "source": [
    "ggplot(df, aes(x='price',color=\"room_type\")) +\\\n",
    "    geom_histogram(binwidth=50,\\\n",
    "        alpha=0.5,\\\n",
    "        position=\"identity\",\\\n",
    "        fill=\"white\") +\\\n",
    "    xlim(0,1000)"
   ]
  }
 ],
 "metadata": {
  "kernelspec": {
   "display_name": "Python 3 (ipykernel)",
   "language": "python",
   "name": "python3"
  },
  "language_info": {
   "codemirror_mode": {
    "name": "ipython",
    "version": 3
   },
   "file_extension": ".py",
   "mimetype": "text/x-python",
   "name": "python",
   "nbconvert_exporter": "python",
   "pygments_lexer": "ipython3",
   "version": "3.8.10"
  }
 },
 "nbformat": 4,
 "nbformat_minor": 5
}
