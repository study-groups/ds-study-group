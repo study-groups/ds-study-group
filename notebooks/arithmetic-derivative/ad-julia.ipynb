{
 "cells": [
  {
   "cell_type": "markdown",
   "id": "b14ef97d-b7ea-4461-bc09-e89dfae675b5",
   "metadata": {},
   "source": [
    "https://juliagraphs.org/Graphs.jl/dev/#Basic-use"
   ]
  }
 ],
 "metadata": {
  "kernelspec": {
   "display_name": "Julia 1.7.3",
   "language": "julia",
   "name": "julia-1.7"
  },
  "language_info": {
   "name": ""
  }
 },
 "nbformat": 4,
 "nbformat_minor": 5
}
