{
 "cells": [
  {
   "cell_type": "markdown",
   "id": "e6d52671-53f9-495b-8dbf-74af533ccb29",
   "metadata": {
    "tags": []
   },
   "source": [
    "# Arithmetic derivative as a sequence of states\n",
    "\n",
    "The notion of a derivative is applicable to many domains. Here we consider it as described by E.J. Barbeau's 1961 [Remarks on an Arithmetic Derivative](https://www.cambridge.org/core/journals/canadian-mathematical-bulletin/article/remarks-on-an-arithmetic-derivative/1FD7F09AD3972692FC97BB23A21D0BD8) as a process $D()$ applied to the natural numbers that honor Leibniz's product rule for the derivative of the product of two operands, in our case the intgers $(n,m)$: \n",
    "\n",
    "\n",
    "$$\n",
    "D(0) = 0 \\\\\n",
    "D(1) = 0 \\\\\n",
    "D(p) = 1 |  \\forall p \\in {prime} \\\\[10pt]\n",
    "D(mn) = m D(n) + n D(n)\\\\[10pt]\n",
    "$$\n",
    "\n",
    "Lets see $D(n)$ to the first 10 integers, from [rosstta-code](https://rosettacode.org/wiki/Arithmetic_derivative):\n",
    "\n",
    "| D(0) | D(1) | D(2) | D(3) | D(4) | D(5) | D(6) | D(7) | D(8) | D(9) |\n",
    "|---|---|---|---|---|---|---|---|---|---|\n",
    "|0 | 0 | 1 | 1 | 4 | 1 | 5 | 1 | 12 | 6 |\n",
    "\n",
    "\n",
    "\n",
    "### Continuous versus discontinuous derivative \n",
    "The derivative of a continuous function over a real valued domain embodies the 'traditional' notion of a derivative. A key feature of a derivative of a continuous function is that it describes a local rate of change of a function therefore can predict how neighboring values in the domain (x) will map to the co-domain (y). That is, the slope of a line at a point (x value) points to the next value in the co-domain (y value). \n",
    "\n",
    "The arithmetic derivative is not a continuous function (see how the table above jumps from value to value) so it's use in optimization, which relies on continuous derivatives, is limited.\n",
    "\n",
    "[The Arithmetic Derivative and Antiderivative](https://cs.uwaterloo.ca/journals/JIS/VOL15/Kovic/kovic4.html) by Kovič is extends the definition of the arithmetic derivative to the real, rational and complex numbers leading to a theory of partial differential equations involving the arithmetic derivative but such notions are not considered here.\n",
    "\n",
    "Instead, we are interested in:\n",
    "\n",
    "1. Composition of D(mn)\n",
    "2. Group structure of D(n)\n",
    "3. Seeing D(x) as a sequence of states\n",
    "\n",
    "## Compositional property of the A.D. \n",
    "\n",
    "The arithmetic derivative provides a systematic method of composition and deconstruction with **composition as multiplication over prime numbers** and the **objects** being composed are **prime numbers**.  The [Arithmetic derivative on On-Line Encyclopedia of Integer Sequences](http://oeis.org/wiki/Arithmetic_derivative) gives a good definition showing the arithmetic derivative as a factorized representation of integer $n$:\n",
    "\n",
    "$$\n",
    "n = \\prod_{i=1}^{w[n]} p_i^{e_i}\n",
    "$$\n",
    "\n",
    "where the product of factors $p_i$ are raised to their multiplicative power, $e_i$ and $w(n)$ is the number of distinct prime factors. For example, $n=18$ is the set length $w[18]=2$ of tuples of $\\{(p_i,e_i)\\} = (2,1), (3,2)$.\n",
    "\n",
    "In [How to Differentiate a n Number](https://cs.uwaterloo.ca/journals/JIS/VOL6/Ufnarovski/ufnarovski.pdf) Ufnarovski and Ahlander show the arithmetic derivative may be calculated by multiplying the operand $n$ by the sum reciprocals of prime factors. The motivation here is to 'pull down' the power of the each prime factor. \n",
    "\n",
    "For example: $ad(9) = ad(3^2)$  = $2*3^1 = 6$. \n",
    "\n",
    "A fixed point example: ad(27) = ad(3^3) = 3*(3^2) = 27. From the table above we see the $D(4)=4$ is also a fixed point. \n",
    "\n",
    " More generally, the arithmetic derivative of $n$ may be written as:\n",
    "\n",
    "$$\n",
    "n' = n \\sum_{w(n)}^{i=1} \\frac{e_i}{p_i}\n",
    "$$\n",
    "\n",
    "### Implementation in Python\n",
    "Twe python versions of the arithmetic derivative are included. The first requires a prime factorization of the integer operand. The second arrives at the answer via a recursive method using the modulo operator `%` first seen at [Arithmetic Derivative on CodeGolf](https://codegolf.stackexchange.com/questions/76944/the-arithmetic-derivative).\n",
    "\n",
    "For ease of understanding and computation, this notebook eliminates $e_i$ and instead allows representation of repeated roots. The sum of products raised to the multiplicative power is captured by just summing a list of factors that allows repeats. This is what `prinmeFactors` returns. E.g. `primeFactors(9) = [3, 3]`. This eliminates the need to account for $e_i$ in the formulas above.\n",
    "\n",
    "\n",
    "## Group structure\n",
    "\n",
    "Applying $D(\\cdot)$ to the first 100 integers shows three classes of inputs:\n",
    "1. Those n's that map to 1 (prime numbers)\n",
    "1. Those n's that map to a sequence that arrives on a fixed point\n",
    "1. Those n's that map to a sequence that on an unbounded value\n",
    "\n",
    "The following is a table generated by repeated evaluations.\n",
    "\n",
    "## Interpreting the arithmetic derivative as a sequence of states\n",
    "Consider applying the itterative algorithm on the number prime number 5. the following internal states are encountered:\n",
    "<pre>\n",
    "1: (5,2)\n",
    "2: (5,3)\n",
    "3: (5,4)\n",
    "4: (5,5)\n",
    "5: (1,2)\n",
    "5: (5,5)\n",
    "</pre>\n",
    "\n",
    "Here are the internal states for 27:\n",
    "<pre>\n",
    "1: (27,2)\n",
    "2: (27,3)\n",
    "3: (9,2)\n",
    "4: (9,3)\n",
    "5: (3,2)\n",
    "6: (3,3)\n",
    "7: (27,3)\n",
    "</pre>\n",
    "\n",
    "The point is that unlike a function that maps an arbitrary input\n",
    "to an arbitrary output, we have a function that maps a tuple (n, p) to a series of connected nodes labeled by a tuple of integers. These intermediate tuples are generated from the recursive algorithm and represent the internal state of the system that turns an integer into it's arithmetic derivative.\n",
    "\n",
    "### State space representation\n",
    "\n",
    "Because of the finite and identifiable steps, we may be tempted to apply the language of state-space representation to this problem with hopes of seeing trends by analyzing the state transition matrix, $A$, associated with the state-space formulation of the algorithm:\n",
    "\n",
    "$$\n",
    "x[n+1] = A \\cdot x[n] + B \\cdot u[n] \\\\[10pt]\n",
    "y[n] = C \\cdot x[n] + D \\cdot u[n] \\\\\n",
    "$$\n",
    "\n",
    "where:\n",
    "\n",
    "| var | name | dim |\n",
    "|---|----|---|\n",
    "| x | state-vector |  in Z^2  |\n",
    "| y |output vector | in Z  |\n",
    "| u | input control vector  |  in Z^p where p = 1 |\n",
    "| A | state transition matrix | n x 2  where nx2 is very sparse|\n",
    "| B | input coupling matrix |   2 x 1  where n accounts for states |\n",
    "| C | output coupling matrix|   1 x n  where n states reduce to output |\n",
    "| D | feedthrough maxtrix|   1 x 2  but D = 0 |\n",
    "\n",
    "\n",
    "Typically the state-space representation is used for three reasons:\n",
    "1. eliminate noise in measurements found in $u[n]$\n",
    "2. expand high ordered differential equations into set of first order equations\n",
    "3. Analyze stability of system via eigenvector analysis\n",
    "\n",
    "\n",
    "Since the A.D. is non-linear and it's inputs are deterministic and well ordered (e.g. the integer number line), we have no use for the state space formulation as a method of prediction. in a noisy environment.\n",
    "\n",
    "We can, however, interpret the A matrix as a time-varying system, $A(t)$ and ask how such a $A(t)$ might be constructed so as to generate the internal states of the iterative algorithm. For example, the first state transition when calculating $D(27)$ would be of the form:\n",
    "\n",
    "$$\n",
    "1: \\begin{bmatrix} 27 \\\\ 3 \\end{bmatrix} = A\\begin{bmatrix} 27 \\\\ 2 \\end{bmatrix} \\\\[10pt]\n",
    "2: \\begin{bmatrix} 9 \\\\ 2 \\end{bmatrix} = A\\begin{bmatrix} 27 \\\\ 3 \\end{bmatrix}\\\\[10pt]\n",
    "3: \\begin{bmatrix} 9 \\\\ 3 \\end{bmatrix} = A\\begin{bmatrix} 9 \\\\ 2 \\end{bmatrix}\n",
    "$$"
   ]
  },
  {
   "cell_type": "code",
   "execution_count": 67,
   "id": "10e1261c-c22a-4462-9013-e7bd12bffa84",
   "metadata": {},
   "outputs": [],
   "source": [
    "def debug (*args):\n",
    "   #print(*args)\n",
    "   pass"
   ]
  },
  {
   "cell_type": "code",
   "execution_count": 68,
   "id": "3d491948-cbb9-4fc1-ba97-1381a06740ec",
   "metadata": {
    "tags": []
   },
   "outputs": [],
   "source": [
    "def primeFactors(n):\n",
    "    # The biggest factor of n has to be the largest of all factors\n",
    "    # So largestFactor^2  < n  =>  only consider numbers up to sqrt(n)\n",
    "    \n",
    "    p = 2                       # Consider n in relation to 2 \n",
    "    factors=[]\n",
    "    while(n > 1 ):              # n is getting reduced\n",
    "        if (n % p  == 0 ):      # when c is a factor, n/c is an integer\n",
    "            factors.append(p)   # got one \n",
    "            n = n//p            # 'remove' factor by dividing \n",
    "        else:\n",
    "            p = p + 1           # increase, check again\n",
    "    \n",
    "    return factors               # c should never be > sqrt(n)"
   ]
  },
  {
   "cell_type": "code",
   "execution_count": 69,
   "id": "905a1899-41a7-4892-9ea0-cebfff7a89c4",
   "metadata": {},
   "outputs": [],
   "source": [
    "def adByFactors(n):                       #arithmetic derivative\n",
    "    if n == 0: return 0         # by definition \n",
    "    r=0                         # \"reducer' < 1\n",
    "    for m in primeFactors(n):\n",
    "        r = r + 1/m             #  divides initial n without remainder  \n",
    "    return round(r*n)           # reduced n to it's arithmetic derivative"
   ]
  },
  {
   "cell_type": "code",
   "execution_count": 70,
   "id": "4060444c-f5ce-422b-b364-cbde3c9ac301",
   "metadata": {},
   "outputs": [],
   "source": [
    "def ad(n,p=2):\n",
    "    global i\n",
    "    i=i+1\n",
    "    debug (f'{i}: ad at top with ({n},{p})')\n",
    "    if n==0 or n==1:      # base cases\n",
    "        debug (f'{i}: ad at base with ({n},{p})')\n",
    "        return 0           # return 0 by defintion\n",
    "    if n%p != 0:           # p does not evenly divide n\n",
    "        debug (f'{i}: ad at middle with ({n},{p})')\n",
    "        return ad(n,p+1)  # recursively call with p+1\n",
    "    else:                  # n is a multpile of p, eg. n = m*p\n",
    "        # Since p is divisor, n = mp where m is an integer\n",
    "        # Definition of Arithmetic Derivative:\n",
    "        #   D(mp) = p*D(m) + mD(p) \n",
    "        #   when n/p is valid: m = n/p\n",
    "        # D(mp) = p * D(n/p) + m * D(p)\n",
    "        # D(mp) = p * D(n/p) + (n/p) * 1\n",
    "        debug (f'{i}: ad at end1 with ({n},{p})')\n",
    "        reduced_der=ad(n//p)        # n//p will be an integer and less than n\n",
    "        debug (f'{i}: ad at end2 with ({n},{p})')\n",
    "        return p*reduced_der + n//p  # D(p) = 1 so just add reduced input"
   ]
  },
  {
   "cell_type": "code",
   "execution_count": 71,
   "id": "abc20eec-34a5-47cd-a3da-4c109dc5dfff",
   "metadata": {},
   "outputs": [
    {
     "data": {
      "text/plain": [
       "27"
      ]
     },
     "execution_count": 71,
     "metadata": {},
     "output_type": "execute_result"
    }
   ],
   "source": [
    "#assert ( sum([ad(x) - adByFactors(x) for x in range(0,50)]) == 0 )\n",
    "#[ad(x) for x in range(0,50)]\n",
    "i=0; ad(27) # 12"
   ]
  },
  {
   "cell_type": "code",
   "execution_count": 72,
   "id": "8e762552-cbf3-4c3b-826a-9430ac5b8254",
   "metadata": {},
   "outputs": [],
   "source": [
    "def debug(*args):\n",
    "    #print (*args)\n",
    "    pass\n",
    "\n",
    "def ad2(np):\n",
    "    global i\n",
    "    n=np[0]\n",
    "    p=np[1]\n",
    "    i=i+1\n",
    "    debug (f'{i}: ad2 at top with ({n},{p})')\n",
    "    if n==0 or n== 1:             # base cases\n",
    "        debug (f'{i}: ad2 at base with ({n},{p})')\n",
    "        return (0,2)              # return 0 by defintion\n",
    "    if n%p != 0:                  # p does not evenly divide n\n",
    "        debug (f'{i}: ad2 at middle with ({n},{p})')\n",
    "        return ad2( (n, p + 1) )  # recursively call with p+1\n",
    "    else:                         # n is a multpile of p, eg. n = m*p\n",
    "        pOld=p\n",
    "        debug (f'{i}: ad2 at end1 with ({n},{pOld})')\n",
    "        (r, p) = ad2( ( n//p,  2) )\n",
    "        debug (f'{i}: ad2 at end2 with ({n},{pOld})')\n",
    "        return (  pOld*r + n//pOld, pOld)  # return tuple"
   ]
  },
  {
   "cell_type": "code",
   "execution_count": 73,
   "id": "b596922f-bf8c-4748-8ce5-17cd8eb42627",
   "metadata": {},
   "outputs": [],
   "source": [
    "def debug(*args):\n",
    "    #print (*args)\n",
    "    pass\n",
    "\n",
    "assert ( sum( [ ad2( (x,2) ) [0] - \n",
    "               ad(x) for x in range(0,28) ])) == 0"
   ]
  },
  {
   "cell_type": "code",
   "execution_count": 74,
   "id": "0854702c-5932-496b-9f78-4892cc179e93",
   "metadata": {},
   "outputs": [
    {
     "data": {
      "text/plain": [
       "[]"
      ]
     },
     "execution_count": 74,
     "metadata": {},
     "output_type": "execute_result"
    }
   ],
   "source": [
    "i=0;\n",
    "def debug(*args):\n",
    "    print (*args)\n",
    "    \n",
    "[ ad2((n,2)) for n in range(-27,-28) ]"
   ]
  },
  {
   "cell_type": "code",
   "execution_count": 75,
   "id": "d6c01683-c822-45f9-9f50-1c2583718bc4",
   "metadata": {},
   "outputs": [
    {
     "name": "stdout",
     "output_type": "stream",
     "text": [
      "ad2(12,2) = (16, 2) and ad(12)=16\n"
     ]
    }
   ],
   "source": [
    "def debug(*args):\n",
    "    #print (*args)\n",
    "    pass\n",
    "print(f'ad2(12,2) = {ad2((12,2))} and ad(12)={ad(12)}')"
   ]
  },
  {
   "cell_type": "code",
   "execution_count": 76,
   "id": "46c69b34-1b1c-4c20-9fa0-d157d710b9bd",
   "metadata": {},
   "outputs": [],
   "source": [
    "i=0;\n",
    "def debug(*args):\n",
    "    #print (*args)\n",
    "    pass\n",
    "\n",
    "adStates=[( n,  ad2((n,2))[1], ad2( (n,2) )[0],  ad(n), ad2((n,2))[0] - ad(n) ) for n in range(0,50)]\n"
   ]
  },
  {
   "cell_type": "code",
   "execution_count": 77,
   "id": "d56a8a53-b933-4611-ba66-6de232507480",
   "metadata": {},
   "outputs": [
    {
     "data": {
      "text/plain": [
       "4"
      ]
     },
     "execution_count": 77,
     "metadata": {},
     "output_type": "execute_result"
    }
   ],
   "source": [
    "ad(4)"
   ]
  },
  {
   "cell_type": "code",
   "execution_count": 78,
   "id": "d3a7c6d3-69fd-4c42-a0c9-8f7de6b850d8",
   "metadata": {},
   "outputs": [],
   "source": [
    "import networkx as nx\n",
    "import matplotlib.pyplot as plt"
   ]
  },
  {
   "cell_type": "code",
   "execution_count": 79,
   "id": "18378a40-1f2f-4eef-b01b-77dad6ef6b54",
   "metadata": {},
   "outputs": [],
   "source": [
    "G = nx.Graph()\n",
    "e = zip(range(0, 3), range(1, 4))\n",
    "G.add_edges_from(e)"
   ]
  },
  {
   "cell_type": "code",
   "execution_count": 80,
   "id": "5d8973af-2ded-4618-bbf4-7a5b2060697f",
   "metadata": {},
   "outputs": [
    {
     "data": {
      "text/plain": [
       "\u001b[0;31mSignature:\u001b[0m \u001b[0mG\u001b[0m\u001b[0;34m.\u001b[0m\u001b[0madd_edges_from\u001b[0m\u001b[0;34m(\u001b[0m\u001b[0mebunch_to_add\u001b[0m\u001b[0;34m,\u001b[0m \u001b[0;34m**\u001b[0m\u001b[0mattr\u001b[0m\u001b[0;34m)\u001b[0m\u001b[0;34m\u001b[0m\u001b[0;34m\u001b[0m\u001b[0m\n",
       "\u001b[0;31mDocstring:\u001b[0m\n",
       "Add all the edges in ebunch_to_add.\n",
       "\n",
       "Parameters\n",
       "----------\n",
       "ebunch_to_add : container of edges\n",
       "    Each edge given in the container will be added to the\n",
       "    graph. The edges must be given as 2-tuples (u, v) or\n",
       "    3-tuples (u, v, d) where d is a dictionary containing edge data.\n",
       "attr : keyword arguments, optional\n",
       "    Edge data (or labels or objects) can be assigned using\n",
       "    keyword arguments.\n",
       "\n",
       "See Also\n",
       "--------\n",
       "add_edge : add a single edge\n",
       "add_weighted_edges_from : convenient way to add weighted edges\n",
       "\n",
       "Notes\n",
       "-----\n",
       "Adding the same edge twice has no effect but any edge data\n",
       "will be updated when each duplicate edge is added.\n",
       "\n",
       "Edge attributes specified in an ebunch take precedence over\n",
       "attributes specified via keyword arguments.\n",
       "\n",
       "Examples\n",
       "--------\n",
       ">>> G = nx.Graph()  # or DiGraph, MultiGraph, MultiDiGraph, etc\n",
       ">>> G.add_edges_from([(0, 1), (1, 2)])  # using a list of edge tuples\n",
       ">>> e = zip(range(0, 3), range(1, 4))\n",
       ">>> G.add_edges_from(e)  # Add the path graph 0-1-2-3\n",
       "\n",
       "Associate data to edges\n",
       "\n",
       ">>> G.add_edges_from([(1, 2), (2, 3)], weight=3)\n",
       ">>> G.add_edges_from([(3, 4), (1, 4)], label=\"WN2898\")\n",
       "\u001b[0;31mFile:\u001b[0m      ~/src/ds-study-group/ds-dev/lib/python3.8/site-packages/networkx/classes/graph.py\n",
       "\u001b[0;31mType:\u001b[0m      method\n"
      ]
     },
     "metadata": {},
     "output_type": "display_data"
    }
   ],
   "source": [
    "G.add_edges_from?"
   ]
  },
  {
   "cell_type": "code",
   "execution_count": 81,
   "id": "b8b667da-d83d-44cc-ac38-1b83bc7de6db",
   "metadata": {},
   "outputs": [
    {
     "data": {
      "image/png": "[encoded data removed]",
      "text/plain": [
       "<Figure size 432x288 with 1 Axes>"
      ]
     },
     "metadata": {},
     "output_type": "display_data"
    }
   ],
   "source": [
    "G.add_edges_from([(1, 2), (2, 3)], weight=3)\n",
    "nx.draw(G)"
   ]
  },
  {
   "cell_type": "code",
   "execution_count": 114,
   "id": "026ce9b3-ddd7-4cdd-8a95-602273681e76",
   "metadata": {},
   "outputs": [
    {
     "data": {
      "image/png": "[encoded data removed]",
      "text/plain": [
       "<Figure size 432x288 with 1 Axes>"
      ]
     },
     "metadata": {},
     "output_type": "display_data"
    }
   ],
   "source": [
    "fig, ax = plt.subplots()\n",
    "dg=nx.dodecahedral_graph()\n",
    "nx.draw_networkx(dg,\n",
    "                 with_labels=True,\n",
    "                 node_shape='o', \n",
    "                 node_size=800, \n",
    "                 node_color='green',\n",
    "                 edge_color='yellow',\n",
    "                 width=15,\n",
    "                nodelist=list(dg)[0:20])\n",
    "ax.set_facecolor('lime')\n",
    "ax.axis('off')\n",
    "plt.show()"
   ]
  },
  {
   "cell_type": "code",
   "execution_count": null,
   "id": "43979c96-044c-407f-bcb4-e099efe21803",
   "metadata": {},
   "outputs": [],
   "source": []
  },
  {
   "cell_type": "code",
   "execution_count": 86,
   "id": "fa96c100-ad86-420d-bf3c-c0850c9b41cc",
   "metadata": {},
   "outputs": [
    {
     "data": {
      "image/png": "[encoded data removed]",
      "text/plain": [
       "<Figure size 432x288 with 1 Axes>"
      ]
     },
     "metadata": {},
     "output_type": "display_data"
    }
   ],
   "source": [
    "G = nx.Graph()\n",
    "G.add_edge(0,1,color='r',weight=2)\n",
    "G.add_edge(1,2,color='g',weight=4)\n",
    "G.add_edge(2,3,color='b',weight=6)\n",
    "G.add_edge(3,4,color='y',weight=3)\n",
    "G.add_edge(4,0,color='m',weight=1)\n",
    "\n",
    "colors = nx.get_edge_attributes(G,'color').values()\n",
    "weights = nx.get_edge_attributes(G,'weight').values()\n",
    "\n",
    "pos = nx.circular_layout(G)\n",
    "nx.draw(G, pos, \n",
    "        edge_color=colors, \n",
    "        width=list(weights),\n",
    "        with_labels=True,\n",
    "        node_color='lightgreen')"
   ]
  },
  {
   "cell_type": "code",
   "execution_count": null,
   "id": "17f1ce3c-e06a-4d91-a1b8-2bdec35a1afd",
   "metadata": {},
   "outputs": [],
   "source": [
    "G = nx.petersen_graph()\n",
    "subax1 = plt.subplot(121)\n",
    "nx.draw(G, with_labels=True, font_weight='bold')\n",
    "subax2 = plt.subplot(122)\n",
    "nx.draw_shell(G, nlist=[range(5, 10), range(5)], with_labels=True, font_weight='bold')"
   ]
  },
  {
   "cell_type": "code",
   "execution_count": null,
   "id": "3c2044f1-9a01-4a80-b79e-e810358b4595",
   "metadata": {},
   "outputs": [],
   "source": [
    "import random\n",
    "node_list = [\"A\",\"B\",\"C\",\"D\",\"E\",\"F\",\"G\",\"H\",\"E\"]\n",
    "def draw_number(length):\n",
    "    \"\"\"determines a random index number for selection.\"\"\"\n",
    "    from_index = random.randint(0,length)\n",
    "    to_index = random.randint(0,length)\n",
    "    return from_index, to_index\n",
    "from_list = []\n",
    "to_list = []\n",
    "counter = 20\n",
    "i = 0\n",
    "while i < counter:\n",
    "    from_index, to_index = draw_number(len(node_list)-1)\n",
    "    if from_index == to_index:\n",
    "        continue\n",
    "    from_list.append(node_list[from_index])\n",
    "    to_list.append(node_list[to_index])\n",
    "    i += 1"
   ]
  },
  {
   "cell_type": "code",
   "execution_count": null,
   "id": "b0e19b60-92de-4a6f-94f8-75fba3ba6415",
   "metadata": {},
   "outputs": [],
   "source": [
    "import plotly.graph_objs as go\n",
    "G = nx.Graph()\n",
    "for i in range(len(node_list)):\n",
    "    G.add_node(node_list[i])\n",
    "    G.add_edges_from([(from_list[i], to_list[i])])"
   ]
  },
  {
   "cell_type": "code",
   "execution_count": null,
   "id": "3dbb33cc-ad64-4451-839d-a94819d01774",
   "metadata": {},
   "outputs": [],
   "source": [
    "pos = nx.spring_layout(G, k=0.5, iterations=100)\n",
    "for n, p in pos.items():\n",
    "    G.nodes[n]['pos'] = p"
   ]
  },
  {
   "cell_type": "code",
   "execution_count": null,
   "id": "99d757ce-12ef-4e42-a832-af43e5fe0960",
   "metadata": {},
   "outputs": [],
   "source": [
    "edge_trace = go.Scatter(\n",
    "    x=[],\n",
    "    y=[],\n",
    "    line=dict(width=0.5, color='#888'),\n",
    "    hoverinfo='none',\n",
    "    mode='lines')\n",
    "for edge in G.edges():\n",
    "    x0, y0 = G.nodes[edge[0]]['pos']\n",
    "    x1, y1 = G.nodes[edge[1]]['pos']\n",
    "    edge_trace['x'] += tuple([x0, x1, None])\n",
    "    edge_trace['y'] += tuple([y0, y1, None])"
   ]
  },
  {
   "cell_type": "code",
   "execution_count": null,
   "id": "3cb919a2-c545-4de4-a6c2-2b58fb1b132e",
   "metadata": {},
   "outputs": [],
   "source": [
    "node_trace = go.Scatter(\n",
    "    x=[],\n",
    "    y=[],\n",
    "    text=[],\n",
    "    mode='markers+text',\n",
    "    hoverinfo='text',\n",
    "    marker=dict(\n",
    "        showscale=True,\n",
    "        colorscale='pinkyl',\n",
    "        reversescale=True,\n",
    "        color=[],\n",
    "        size=37,\n",
    "        colorbar=dict(\n",
    "            thickness=1,\n",
    "            title='Node Connections',\n",
    "            xanchor='left',\n",
    "            titleside='right'\n",
    "        ),\n",
    "        line=dict(width=0)))\n",
    "for node in G.nodes():\n",
    "    x, y = G.nodes[node]['pos']\n",
    "    node_trace['x'] += tuple([x])\n",
    "    node_trace['y'] += tuple([y])\n",
    "for node, adjacencies in enumerate(G.adjacency()):\n",
    "    node_trace['marker']['color'] += tuple([len(adjacencies[1])])\n",
    "    node_info = adjacencies[0]\n",
    "    node_trace['text'] += tuple([node_info])"
   ]
  },
  {
   "cell_type": "code",
   "execution_count": null,
   "id": "fb01e141-9884-4217-a2d4-c913000ffeae",
   "metadata": {},
   "outputs": [],
   "source": [
    "title = \"Network Graph Demonstration\"\n",
    "fig = go.Figure(data=[edge_trace, node_trace],\n",
    "                layout=go.Layout(\n",
    "                title=title,\n",
    "                titlefont=dict(size=16),\n",
    "                showlegend=False,\n",
    "                hovermode='closest',\n",
    "                margin=dict(b=21, l=5, r=5, t=40),\n",
    "                annotations=[dict(\n",
    "                    text=\"Text Here\",\n",
    "                    showarrow=False,\n",
    "                    xref=\"paper\", yref=\"paper\")],\n",
    "                xaxis=dict(showgrid=False, zeroline=False,\n",
    "                           showticklabels=False, mirror=True),\n",
    "                yaxis=dict(showgrid=False, zeroline=False, showticklabels=False, mirror=True)))\n",
    "fig.show()"
   ]
  },
  {
   "cell_type": "code",
   "execution_count": null,
   "id": "84fc453c-e496-4594-a7d7-487fc443e0de",
   "metadata": {},
   "outputs": [],
   "source": []
  }
 ],
 "metadata": {
  "kernelspec": {
   "display_name": "Python 3 (ipykernel)",
   "language": "python",
   "name": "python3"
  },
  "language_info": {
   "codemirror_mode": {
    "name": "ipython",
    "version": 3
   },
   "file_extension": ".py",
   "mimetype": "text/x-python",
   "name": "python",
   "nbconvert_exporter": "python",
   "pygments_lexer": "ipython3",
   "version": "3.8.10"
  }
 },
 "nbformat": 4,
 "nbformat_minor": 5
}
